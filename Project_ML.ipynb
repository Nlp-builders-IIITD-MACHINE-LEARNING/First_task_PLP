{
  "nbformat": 4,
  "nbformat_minor": 0,
  "metadata": {
    "colab": {
      "provenance": []
    },
    "kernelspec": {
      "name": "python3",
      "display_name": "Python 3"
    },
    "language_info": {
      "name": "python"
    }
  },
  "cells": [
    {
      "cell_type": "code",
      "source": [
        "import pandas as pd\n",
        "import numpy as np\n",
        "import matplotlib.pyplot as plt\n",
        "import seaborn as sns\n",
        "from sklearn.model_selection import train_test_split\n",
        "from sklearn.preprocessing import LabelEncoder\n",
        "from tensorflow.keras.preprocessing.image import ImageDataGenerator\n",
        "from tensorflow.keras.models import Sequential\n",
        "from tensorflow.keras.layers import Conv2D, MaxPooling2D, Flatten, Dense\n",
        "from PIL import Image\n",
        "\n",
        "# Mount Google Drive\n",
        "from google.colab import drive\n",
        "\n",
        "from IPython.display import Image, display\n",
        "import os\n"
      ],
      "metadata": {
        "id": "M4jjQDte7hfJ"
      },
      "execution_count": 10,
      "outputs": []
    },
    {
      "cell_type": "code",
      "source": [
        "\n",
        "\n",
        "# Specify the path to your CSV file\n",
        "dataset_path = 'JustRAIGS_Train_labels.csv'\n",
        "\n",
        "# Read the dataset into a Pandas DataFrame\n",
        "df = pd.read_csv(dataset_path)\n",
        "\n",
        "\n",
        "# Display basic information about the dataset\n",
        "print(df.info())\n",
        "\n",
        "# Display the first few rows of the dataset\n",
        "print(df.head())\n"
      ],
      "metadata": {
        "colab": {
          "base_uri": "https://localhost:8080/"
        },
        "id": "ARnK6MN2_DKf",
        "outputId": "4e15f423-c76c-4043-8dab-0a4886389cc8"
      },
      "execution_count": 11,
      "outputs": [
        {
          "output_type": "stream",
          "name": "stdout",
          "text": [
            "<class 'pandas.core.frame.DataFrame'>\n",
            "RangeIndex: 101423 entries, 0 to 101422\n",
            "Data columns (total 1 columns):\n",
            " #   Column                                                                                                                                                                                                                                                                                                        Non-Null Count   Dtype \n",
            "---  ------                                                                                                                                                                                                                                                                                                        --------------   ----- \n",
            " 0   Eye ID;Final Label;Fellow Eye ID;Age;Label G1;Label G2;Label G3;G1 ANRS;G1 ANRI;G1 RNFLDS;G1 RNFLDI;G1 BCLVS;G1 BCLVI;G1 NVT;G1 DH;G1 LD;G1 LC;G2 ANRS;G2 ANRI;G2 RNFLDS;G2 RNFLDI;G2 BCLVS;G2 BCLVI;G2 NVT;G2 DH;G2 LD;G2 LC;G3 ANRS;G3 ANRI;G3 RNFLDS;G3 RNFLDI;G3 BCLVS;G3 BCLVI;G3 NVT;G3 DH;G3 LD;G3 LC  101423 non-null  object\n",
            "dtypes: object(1)\n",
            "memory usage: 792.5+ KB\n",
            "None\n",
            "  Eye ID;Final Label;Fellow Eye ID;Age;Label G1;Label G2;Label G3;G1 ANRS;G1 ANRI;G1 RNFLDS;G1 RNFLDI;G1 BCLVS;G1 BCLVI;G1 NVT;G1 DH;G1 LD;G1 LC;G2 ANRS;G2 ANRI;G2 RNFLDS;G2 RNFLDI;G2 BCLVS;G2 BCLVI;G2 NVT;G2 DH;G2 LD;G2 LC;G3 ANRS;G3 ANRI;G3 RNFLDS;G3 RNFLDI;G3 BCLVS;G3 BCLVI;G3 NVT;G3 DH;G3 LD;G3 LC\n",
            "0  TRAIN000000;NRG;TRAIN081848;48;NRG;NRG;;0;0;0;...                                                                                                                                                                                                                                                          \n",
            "1  TRAIN000001;NRG;TRAIN018312;29;NRG;NRG;;0;0;0;...                                                                                                                                                                                                                                                          \n",
            "2  TRAIN000002;NRG;TRAIN083822;61;NRG;NRG;;0;0;0;...                                                                                                                                                                                                                                                          \n",
            "3  TRAIN000003;NRG;TRAIN055721;70;NRG;NRG;;0;0;0;...                                                                                                                                                                                                                                                          \n",
            "4  TRAIN000004;NRG;TRAIN099283;48;NRG;NRG;;0;0;0;...                                                                                                                                                                                                                                                          \n"
          ]
        }
      ]
    },
    {
      "cell_type": "code",
      "source": [
        "# Read the dataset into a Pandas DataFrame with the correct delimiter\n",
        "df = pd.read_csv(dataset_path, delimiter=';')\n",
        "\n",
        "# Display basic information about the dataset\n",
        "print(df.info())\n",
        "\n",
        "# Display the first few rows of the dataset\n",
        "print(df.head())\n"
      ],
      "metadata": {
        "colab": {
          "base_uri": "https://localhost:8080/"
        },
        "id": "LC2ukzXV-KdO",
        "outputId": "7b4a1204-9068-4d72-b27f-58fa2b6629de"
      },
      "execution_count": 12,
      "outputs": [
        {
          "output_type": "stream",
          "name": "stdout",
          "text": [
            "<class 'pandas.core.frame.DataFrame'>\n",
            "RangeIndex: 101423 entries, 0 to 101422\n",
            "Data columns (total 37 columns):\n",
            " #   Column         Non-Null Count   Dtype  \n",
            "---  ------         --------------   -----  \n",
            " 0   Eye ID         101423 non-null  object \n",
            " 1   Final Label    101423 non-null  object \n",
            " 2   Fellow Eye ID  93017 non-null   object \n",
            " 3   Age            101409 non-null  float64\n",
            " 4   Label G1       101149 non-null  object \n",
            " 5   Label G2       100046 non-null  object \n",
            " 6   Label G3       8412 non-null    object \n",
            " 7   G1 ANRS        101149 non-null  float64\n",
            " 8   G1 ANRI        101149 non-null  float64\n",
            " 9   G1 RNFLDS      101149 non-null  float64\n",
            " 10  G1 RNFLDI      101149 non-null  float64\n",
            " 11  G1 BCLVS       101149 non-null  float64\n",
            " 12  G1 BCLVI       101149 non-null  float64\n",
            " 13  G1 NVT         101149 non-null  float64\n",
            " 14  G1 DH          101149 non-null  float64\n",
            " 15  G1 LD          101149 non-null  float64\n",
            " 16  G1 LC          101149 non-null  float64\n",
            " 17  G2 ANRS        100046 non-null  float64\n",
            " 18  G2 ANRI        100046 non-null  float64\n",
            " 19  G2 RNFLDS      100046 non-null  float64\n",
            " 20  G2 RNFLDI      100046 non-null  float64\n",
            " 21  G2 BCLVS       100046 non-null  float64\n",
            " 22  G2 BCLVI       100046 non-null  float64\n",
            " 23  G2 NVT         100046 non-null  float64\n",
            " 24  G2 DH          100046 non-null  float64\n",
            " 25  G2 LD          100046 non-null  float64\n",
            " 26  G2 LC          100046 non-null  float64\n",
            " 27  G3 ANRS        8412 non-null    float64\n",
            " 28  G3 ANRI        8412 non-null    float64\n",
            " 29  G3 RNFLDS      8412 non-null    float64\n",
            " 30  G3 RNFLDI      8412 non-null    float64\n",
            " 31  G3 BCLVS       8412 non-null    float64\n",
            " 32  G3 BCLVI       8412 non-null    float64\n",
            " 33  G3 NVT         8412 non-null    float64\n",
            " 34  G3 DH          8412 non-null    float64\n",
            " 35  G3 LD          8412 non-null    float64\n",
            " 36  G3 LC          8412 non-null    float64\n",
            "dtypes: float64(31), object(6)\n",
            "memory usage: 28.6+ MB\n",
            "None\n",
            "        Eye ID Final Label Fellow Eye ID   Age Label G1 Label G2 Label G3  \\\n",
            "0  TRAIN000000         NRG   TRAIN081848  48.0      NRG      NRG      NaN   \n",
            "1  TRAIN000001         NRG   TRAIN018312  29.0      NRG      NRG      NaN   \n",
            "2  TRAIN000002         NRG   TRAIN083822  61.0      NRG      NRG      NaN   \n",
            "3  TRAIN000003         NRG   TRAIN055721  70.0      NRG      NRG      NaN   \n",
            "4  TRAIN000004         NRG   TRAIN099283  48.0      NRG      NRG      NaN   \n",
            "\n",
            "   G1 ANRS  G1 ANRI  G1 RNFLDS  ...  G3 ANRS  G3 ANRI  G3 RNFLDS  G3 RNFLDI  \\\n",
            "0      0.0      0.0        0.0  ...      NaN      NaN        NaN        NaN   \n",
            "1      0.0      0.0        0.0  ...      NaN      NaN        NaN        NaN   \n",
            "2      0.0      0.0        0.0  ...      NaN      NaN        NaN        NaN   \n",
            "3      0.0      0.0        0.0  ...      NaN      NaN        NaN        NaN   \n",
            "4      0.0      0.0        0.0  ...      NaN      NaN        NaN        NaN   \n",
            "\n",
            "   G3 BCLVS  G3 BCLVI  G3 NVT  G3 DH  G3 LD  G3 LC  \n",
            "0       NaN       NaN     NaN    NaN    NaN    NaN  \n",
            "1       NaN       NaN     NaN    NaN    NaN    NaN  \n",
            "2       NaN       NaN     NaN    NaN    NaN    NaN  \n",
            "3       NaN       NaN     NaN    NaN    NaN    NaN  \n",
            "4       NaN       NaN     NaN    NaN    NaN    NaN  \n",
            "\n",
            "[5 rows x 37 columns]\n"
          ]
        }
      ]
    },
    {
      "cell_type": "code",
      "source": [
        "\"\"\"\n",
        "PLEASE WRITE DOWN TO THE WRITE ALL COL NAME\n",
        "\"\"\""
      ],
      "metadata": {
        "id": "7PaExRedZDNQ"
      },
      "execution_count": null,
      "outputs": []
    },
    {
      "cell_type": "code",
      "source": [
        "# Display summary statistics for numerical columns\n",
        "print(df.describe())\n"
      ],
      "metadata": {
        "colab": {
          "base_uri": "https://localhost:8080/"
        },
        "id": "X80sCppxC88z",
        "outputId": "65e7c933-7d8f-4f36-f6f8-61b5642be185"
      },
      "execution_count": 13,
      "outputs": [
        {
          "output_type": "stream",
          "name": "stdout",
          "text": [
            "                 Age        G1 ANRS        G1 ANRI      G1 RNFLDS  \\\n",
            "count  101409.000000  101149.000000  101149.000000  101149.000000   \n",
            "mean       56.675098       0.032853       0.035482       0.007968   \n",
            "std        10.200041       0.178251       0.184996       0.088910   \n",
            "min         0.000000       0.000000       0.000000       0.000000   \n",
            "25%        49.000000       0.000000       0.000000       0.000000   \n",
            "50%        57.000000       0.000000       0.000000       0.000000   \n",
            "75%        64.000000       0.000000       0.000000       0.000000   \n",
            "max       137.000000       1.000000       1.000000       1.000000   \n",
            "\n",
            "           G1 RNFLDI       G1 BCLVS       G1 BCLVI         G1 NVT  \\\n",
            "count  101149.000000  101149.000000  101149.000000  101149.000000   \n",
            "mean        0.007879       0.011280       0.011992       0.018735   \n",
            "std         0.088416       0.105609       0.108851       0.135587   \n",
            "min         0.000000       0.000000       0.000000       0.000000   \n",
            "25%         0.000000       0.000000       0.000000       0.000000   \n",
            "50%         0.000000       0.000000       0.000000       0.000000   \n",
            "75%         0.000000       0.000000       0.000000       0.000000   \n",
            "max         1.000000       1.000000       1.000000       1.000000   \n",
            "\n",
            "               G1 DH          G1 LD  ...      G3 ANRS      G3 ANRI  \\\n",
            "count  101149.000000  101149.000000  ...  8412.000000  8412.000000   \n",
            "mean        0.001740       0.015798  ...     0.075725     0.084047   \n",
            "std         0.041677       0.124696  ...     0.264574     0.277474   \n",
            "min         0.000000       0.000000  ...     0.000000     0.000000   \n",
            "25%         0.000000       0.000000  ...     0.000000     0.000000   \n",
            "50%         0.000000       0.000000  ...     0.000000     0.000000   \n",
            "75%         0.000000       0.000000  ...     0.000000     0.000000   \n",
            "max         1.000000       1.000000  ...     1.000000     1.000000   \n",
            "\n",
            "         G3 RNFLDS    G3 RNFLDI     G3 BCLVS     G3 BCLVI       G3 NVT  \\\n",
            "count  8412.000000  8412.000000  8412.000000  8412.000000  8412.000000   \n",
            "mean      0.011056     0.013195     0.021398     0.017713     0.020566   \n",
            "std       0.104569     0.114118     0.144716     0.131913     0.141934   \n",
            "min       0.000000     0.000000     0.000000     0.000000     0.000000   \n",
            "25%       0.000000     0.000000     0.000000     0.000000     0.000000   \n",
            "50%       0.000000     0.000000     0.000000     0.000000     0.000000   \n",
            "75%       0.000000     0.000000     0.000000     0.000000     0.000000   \n",
            "max       1.000000     1.000000     1.000000     1.000000     1.000000   \n",
            "\n",
            "             G3 DH        G3 LD        G3 LC  \n",
            "count  8412.000000  8412.000000  8412.000000  \n",
            "mean      0.003685     0.043509     0.062054  \n",
            "std       0.060598     0.204013     0.241268  \n",
            "min       0.000000     0.000000     0.000000  \n",
            "25%       0.000000     0.000000     0.000000  \n",
            "50%       0.000000     0.000000     0.000000  \n",
            "75%       0.000000     0.000000     0.000000  \n",
            "max       1.000000     1.000000     1.000000  \n",
            "\n",
            "[8 rows x 31 columns]\n"
          ]
        }
      ]
    },
    {
      "cell_type": "code",
      "source": [
        "\"\"\"\n",
        "\n",
        "1. Age:\n",
        "   - Count: 80,859 entries have non-null values for age.\n",
        "   - Mean: The average age is approximately 56.67 years.\n",
        "   - Standard Deviation: Age has a standard deviation of around 10.21, indicating some variability.\n",
        "   - Min/Max: The minimum age is 0, and the maximum age is 137.\n",
        "\n",
        "2. G1 ANRS to G3 LC:\n",
        "   - Count: The number of non-null entries for these features varies.\n",
        "   - Mean: These columns are binary (0 or 1), representing the presence or absence of certain characteristics.\n",
        "   - Standard Deviation: Indicates the variability in the presence of these characteristics.\n",
        "\n",
        "For instance, taking \"G1 ANRS\" as an example:\n",
        "   - Count: 80,646 non-null entries.\n",
        "   - Mean: 0.033 indicates that, on average, the characteristic is present in approximately 3.3% of cases.\n",
        "   - Standard Deviation: 0.179 suggests some variability or spread in the data.\n",
        "\n",
        "Similarly, the other columns follow a similar interpretation.\n",
        "\n",
        "\n",
        "\"\"\""
      ],
      "metadata": {
        "colab": {
          "base_uri": "https://localhost:8080/",
          "height": 139
        },
        "id": "E2dYjpKwDTH-",
        "outputId": "670dde0f-3e21-41ee-9bf4-3a926cbde2ce"
      },
      "execution_count": 27,
      "outputs": [
        {
          "output_type": "execute_result",
          "data": {
            "text/plain": [
              "'\\n\\n1. Age:\\n   - Count: 80,859 entries have non-null values for age.\\n   - Mean: The average age is approximately 56.67 years.\\n   - Standard Deviation: Age has a standard deviation of around 10.21, indicating some variability.\\n   - Min/Max: The minimum age is 0, and the maximum age is 137.\\n\\n2. G1 ANRS to G3 LC:\\n   - Count: The number of non-null entries for these features varies.\\n   - Mean: These columns are binary (0 or 1), representing the presence or absence of certain characteristics.\\n   - Standard Deviation: Indicates the variability in the presence of these characteristics.\\n\\nFor instance, taking \"G1 ANRS\" as an example:\\n   - Count: 80,646 non-null entries.\\n   - Mean: 0.033 indicates that, on average, the characteristic is present in approximately 3.3% of cases.\\n   - Standard Deviation: 0.179 suggests some variability or spread in the data.\\n\\nSimilarly, the other columns follow a similar interpretation.\\n\\n\\n'"
            ],
            "application/vnd.google.colaboratory.intrinsic+json": {
              "type": "string"
            }
          },
          "metadata": {},
          "execution_count": 27
        }
      ]
    },
    {
      "cell_type": "code",
      "source": [
        "# Check for missing values in each column\n",
        "missing_values = df.isnull().sum()\n",
        "\n",
        "# Display the count of missing values for each column\n",
        "print(missing_values)\n"
      ],
      "metadata": {
        "colab": {
          "base_uri": "https://localhost:8080/"
        },
        "id": "4RIGIUbFDtwK",
        "outputId": "3f3ee881-42a3-40b3-8aba-bffa3ce9dc96"
      },
      "execution_count": 14,
      "outputs": [
        {
          "output_type": "stream",
          "name": "stdout",
          "text": [
            "Eye ID               0\n",
            "Final Label          0\n",
            "Fellow Eye ID     8406\n",
            "Age                 14\n",
            "Label G1           274\n",
            "Label G2          1377\n",
            "Label G3         93011\n",
            "G1 ANRS            274\n",
            "G1 ANRI            274\n",
            "G1 RNFLDS          274\n",
            "G1 RNFLDI          274\n",
            "G1 BCLVS           274\n",
            "G1 BCLVI           274\n",
            "G1 NVT             274\n",
            "G1 DH              274\n",
            "G1 LD              274\n",
            "G1 LC              274\n",
            "G2 ANRS           1377\n",
            "G2 ANRI           1377\n",
            "G2 RNFLDS         1377\n",
            "G2 RNFLDI         1377\n",
            "G2 BCLVS          1377\n",
            "G2 BCLVI          1377\n",
            "G2 NVT            1377\n",
            "G2 DH             1377\n",
            "G2 LD             1377\n",
            "G2 LC             1377\n",
            "G3 ANRS          93011\n",
            "G3 ANRI          93011\n",
            "G3 RNFLDS        93011\n",
            "G3 RNFLDI        93011\n",
            "G3 BCLVS         93011\n",
            "G3 BCLVI         93011\n",
            "G3 NVT           93011\n",
            "G3 DH            93011\n",
            "G3 LD            93011\n",
            "G3 LC            93011\n",
            "dtype: int64\n"
          ]
        }
      ]
    },
    {
      "cell_type": "code",
      "source": [
        "# Fill missing values in numeric columns with the mean\n",
        "numeric_columns = df.select_dtypes(include=['float64']).columns\n",
        "df[numeric_columns] = df[numeric_columns].apply(lambda x: x.fillna(x.mean()))\n",
        "\n",
        "# Fill missing values in categorical columns with the mode\n",
        "categorical_columns = df.select_dtypes(include=['object']).columns\n",
        "df[categorical_columns] = df[categorical_columns].apply(lambda x: x.fillna(x.mode().iloc[0]))\n"
      ],
      "metadata": {
        "id": "1yHSggSxEX2p"
      },
      "execution_count": 15,
      "outputs": []
    },
    {
      "cell_type": "code",
      "source": [
        "# Display concise summary of the DataFrame\n",
        "print(df.info())\n"
      ],
      "metadata": {
        "colab": {
          "base_uri": "https://localhost:8080/"
        },
        "id": "onlaj7uJEjKq",
        "outputId": "50b299a0-c6ee-4949-c4ad-ace97536794f"
      },
      "execution_count": 16,
      "outputs": [
        {
          "output_type": "stream",
          "name": "stdout",
          "text": [
            "<class 'pandas.core.frame.DataFrame'>\n",
            "RangeIndex: 101423 entries, 0 to 101422\n",
            "Data columns (total 37 columns):\n",
            " #   Column         Non-Null Count   Dtype  \n",
            "---  ------         --------------   -----  \n",
            " 0   Eye ID         101423 non-null  object \n",
            " 1   Final Label    101423 non-null  object \n",
            " 2   Fellow Eye ID  101423 non-null  object \n",
            " 3   Age            101423 non-null  float64\n",
            " 4   Label G1       101423 non-null  object \n",
            " 5   Label G2       101423 non-null  object \n",
            " 6   Label G3       101423 non-null  object \n",
            " 7   G1 ANRS        101423 non-null  float64\n",
            " 8   G1 ANRI        101423 non-null  float64\n",
            " 9   G1 RNFLDS      101423 non-null  float64\n",
            " 10  G1 RNFLDI      101423 non-null  float64\n",
            " 11  G1 BCLVS       101423 non-null  float64\n",
            " 12  G1 BCLVI       101423 non-null  float64\n",
            " 13  G1 NVT         101423 non-null  float64\n",
            " 14  G1 DH          101423 non-null  float64\n",
            " 15  G1 LD          101423 non-null  float64\n",
            " 16  G1 LC          101423 non-null  float64\n",
            " 17  G2 ANRS        101423 non-null  float64\n",
            " 18  G2 ANRI        101423 non-null  float64\n",
            " 19  G2 RNFLDS      101423 non-null  float64\n",
            " 20  G2 RNFLDI      101423 non-null  float64\n",
            " 21  G2 BCLVS       101423 non-null  float64\n",
            " 22  G2 BCLVI       101423 non-null  float64\n",
            " 23  G2 NVT         101423 non-null  float64\n",
            " 24  G2 DH          101423 non-null  float64\n",
            " 25  G2 LD          101423 non-null  float64\n",
            " 26  G2 LC          101423 non-null  float64\n",
            " 27  G3 ANRS        101423 non-null  float64\n",
            " 28  G3 ANRI        101423 non-null  float64\n",
            " 29  G3 RNFLDS      101423 non-null  float64\n",
            " 30  G3 RNFLDI      101423 non-null  float64\n",
            " 31  G3 BCLVS       101423 non-null  float64\n",
            " 32  G3 BCLVI       101423 non-null  float64\n",
            " 33  G3 NVT         101423 non-null  float64\n",
            " 34  G3 DH          101423 non-null  float64\n",
            " 35  G3 LD          101423 non-null  float64\n",
            " 36  G3 LC          101423 non-null  float64\n",
            "dtypes: float64(31), object(6)\n",
            "memory usage: 28.6+ MB\n",
            "None\n"
          ]
        }
      ]
    },
    {
      "cell_type": "code",
      "source": [
        "# Display summary statistics for numerical columns\n",
        "#print(df.describe())\n"
      ],
      "metadata": {
        "id": "wp48aa2WFCcO"
      },
      "execution_count": 26,
      "outputs": []
    },
    {
      "cell_type": "code",
      "source": [
        "\"\"\"\n",
        "the changes in summary statistics are expected after handling missing values.\n",
        "The imputation method used (mean for numeric columns) has influenced the mean and\n",
        "standard deviation values, but the general distribution characteristics remain similar\n",
        "\"\"\""
      ],
      "metadata": {
        "id": "7cP0ibcAFlNd"
      },
      "execution_count": null,
      "outputs": []
    },
    {
      "cell_type": "code",
      "source": [
        "# Count the occurrences of each class in the \"Final Label\" column\n",
        "class_counts = df['Final Label'].value_counts()\n",
        "\n",
        "# Display the class counts\n",
        "print(class_counts)\n"
      ],
      "metadata": {
        "colab": {
          "base_uri": "https://localhost:8080/"
        },
        "id": "FksZq_WzGIFM",
        "outputId": "872ab71c-d7d1-4f54-dabb-2ed27e0376e0"
      },
      "execution_count": 17,
      "outputs": [
        {
          "output_type": "stream",
          "name": "stdout",
          "text": [
            "NRG    98153\n",
            "RG      3270\n",
            "Name: Final Label, dtype: int64\n"
          ]
        }
      ]
    },
    {
      "cell_type": "code",
      "source": [
        "\"\"\"\n",
        "The class distribution for the \"Final Label\" column in your dataset is as follows:\n",
        "\n",
        "- \"No Referable Glaucoma\" (NRG): 78,220 instances\n",
        "- \"Referable Glaucoma\" (RG): 2,651 instances\n",
        "\n",
        "This distribution indicates a class imbalance, as there are significantly more instances\n",
        " of \"No Referable Glaucoma\" compared to \"Referable Glaucoma.\" In imbalanced datasets like this,\n",
        "machine learning models may become biased towards the majority class, and their performance on the minority class (RG) might be suboptimal.\n",
        "\n",
        "To address this imbalance, consider applying one or more of the following strategies:\n",
        "\n",
        "1. Resampling:\n",
        "   - Undersampling:Reduce the number of instances in the majority class (NRG).\n",
        "   - Oversampling: Increase the number of instances in the minority class (RG).\n",
        "\n",
        "2. Synthetic Data Generation:\n",
        "   - Use techniques like SMOTE (Synthetic Minority Over-sampling Technique) to generate synthetic samples for the minority class.\n",
        "\n",
        "3. eighted Loss:\n",
        "   - Assign different weights to classes during model training to give more importance to the minority class (RG).\n",
        "\n",
        "4. Evaluation Metrics:\n",
        "   - Focus on evaluation metrics such as precision, recall, F1-score, or area under the ROC curve (AUC-ROC) that consider the performance on both classes, especially the minority class.\n",
        "\n",
        "\n",
        "\"\"\""
      ],
      "metadata": {
        "id": "Cl3wIz1yGTt8"
      },
      "execution_count": null,
      "outputs": []
    },
    {
      "cell_type": "code",
      "source": [
        "# Select relevant columns for correlation analysis\n",
        "selected_columns = ['Age', 'G1 ANRS', 'G1 ANRI', 'G1 RNFLDS', 'G1 RNFLDI', 'G1 BCLVS', 'G1 BCLVI', 'G1 NVT', 'G1 DH', 'G1 LD', 'G1 LC', 'Final Label']\n",
        "\n",
        "# Create a new DataFrame with selected columns\n",
        "selected_df = df[selected_columns]\n",
        "\n",
        "# Convert 'Final Label' to numerical values (e.g., 1 for 'RG' and 0 for 'NRG')\n",
        "selected_df['Final Label'] = selected_df['Final Label'].map({'NRG': 0, 'RG': 1})\n",
        "\n",
        "# Calculate the correlation matrix\n",
        "correlation_matrix = selected_df.corr()\n",
        "\n",
        "# Display the correlation matrix\n",
        "print(correlation_matrix)\n"
      ],
      "metadata": {
        "colab": {
          "base_uri": "https://localhost:8080/"
        },
        "id": "wK2lJ5EEHK6N",
        "outputId": "fd972cf2-bbd3-4f15-d7fd-eb01c4a5e51b"
      },
      "execution_count": 18,
      "outputs": [
        {
          "output_type": "stream",
          "name": "stdout",
          "text": [
            "                  Age   G1 ANRS   G1 ANRI  G1 RNFLDS  G1 RNFLDI  G1 BCLVS  \\\n",
            "Age          1.000000  0.081730  0.088991   0.019999   0.022843  0.043641   \n",
            "G1 ANRS      0.081730  1.000000  0.644320   0.410174   0.245788  0.507596   \n",
            "G1 ANRI      0.088991  0.644320  1.000000   0.242474   0.389085  0.366628   \n",
            "G1 RNFLDS    0.019999  0.410174  0.242474   1.000000   0.345411  0.244178   \n",
            "G1 RNFLDI    0.022843  0.245788  0.389085   0.345411   1.000000  0.122830   \n",
            "G1 BCLVS     0.043641  0.507596  0.366628   0.244178   0.122830  1.000000   \n",
            "G1 BCLVI     0.046779  0.383760  0.495361   0.139272   0.193578  0.431144   \n",
            "G1 NVT       0.061825  0.615945  0.574575   0.312380   0.285399  0.406406   \n",
            "G1 DH        0.012869  0.122723  0.130478   0.070963   0.103597  0.071910   \n",
            "G1 LD        0.064945  0.506398  0.501991   0.134891   0.147429  0.351327   \n",
            "G1 LC        0.072602  0.624615  0.607214   0.194728   0.188459  0.384268   \n",
            "Final Label  0.112321  0.579274  0.620279   0.229220   0.282517  0.311768   \n",
            "\n",
            "             G1 BCLVI    G1 NVT     G1 DH     G1 LD     G1 LC  Final Label  \n",
            "Age          0.046779  0.061825  0.012869  0.064945  0.072602     0.112321  \n",
            "G1 ANRS      0.383760  0.615945  0.122723  0.506398  0.624615     0.579274  \n",
            "G1 ANRI      0.495361  0.574575  0.130478  0.501991  0.607214     0.620279  \n",
            "G1 RNFLDS    0.139272  0.312380  0.070963  0.134891  0.194728     0.229220  \n",
            "G1 RNFLDI    0.193578  0.285399  0.103597  0.147429  0.188459     0.282517  \n",
            "G1 BCLVS     0.431144  0.406406  0.071910  0.351327  0.384268     0.311768  \n",
            "G1 BCLVI     1.000000  0.371963  0.082571  0.340035  0.366336     0.331614  \n",
            "G1 NVT       0.371963  1.000000  0.081708  0.512279  0.588218     0.444525  \n",
            "G1 DH        0.082571  0.081708  1.000000  0.080316  0.087647     0.125338  \n",
            "G1 LD        0.340035  0.512279  0.080316  1.000000  0.625076     0.437341  \n",
            "G1 LC        0.366336  0.588218  0.087647  0.625076  1.000000     0.518379  \n",
            "Final Label  0.331614  0.444525  0.125338  0.437341  0.518379     1.000000  \n"
          ]
        },
        {
          "output_type": "stream",
          "name": "stderr",
          "text": [
            "<ipython-input-18-02ca757cb518>:8: SettingWithCopyWarning: \n",
            "A value is trying to be set on a copy of a slice from a DataFrame.\n",
            "Try using .loc[row_indexer,col_indexer] = value instead\n",
            "\n",
            "See the caveats in the documentation: https://pandas.pydata.org/pandas-docs/stable/user_guide/indexing.html#returning-a-view-versus-a-copy\n",
            "  selected_df['Final Label'] = selected_df['Final Label'].map({'NRG': 0, 'RG': 1})\n"
          ]
        }
      ]
    },
    {
      "cell_type": "code",
      "source": [
        "\"\"\"the changes in summary statistics are expected after handling missing values.\n",
        "The imputation method used (mean for numeric columns) has influenced the mean and\n",
        "standard deviation values, but the general distribution characteristics remain similar\"\"\""
      ],
      "metadata": {
        "id": "VPa5_bOXIfEI"
      },
      "execution_count": null,
      "outputs": []
    },
    {
      "cell_type": "code",
      "source": [
        "drive.mount('/content/drive')\n",
        "\n",
        "# Path to the folder containing the images on Google Drive\n",
        "image_folder_drive = '/content/drive/MyDrive/ML-PROJECT/0'\n",
        "\n",
        "# List all image files in the folder\n",
        "image_files = [file for file in os.listdir(image_folder_drive) if file.lower().endswith(('.png', '.jpg', '.jpeg', '.gif'))]\n",
        "\n",
        "# Display all images in the folder\n",
        "for image_file in image_files:\n",
        "    image_path = os.path.join(image_folder_drive, image_file)\n",
        "    #display(Image(filename=image_path))\n"
      ],
      "metadata": {
        "colab": {
          "base_uri": "https://localhost:8080/"
        },
        "id": "Pab53l6RJ92a",
        "outputId": "a36c6998-23d7-4718-e3f7-d3311e0efa41"
      },
      "execution_count": 19,
      "outputs": [
        {
          "output_type": "stream",
          "name": "stdout",
          "text": [
            "Drive already mounted at /content/drive; to attempt to forcibly remount, call drive.mount(\"/content/drive\", force_remount=True).\n"
          ]
        }
      ]
    },
    {
      "cell_type": "code",
      "source": [
        "\n",
        "#I TRY TO CONNECT THE IMAGE FOLDER TO DF from csv file\n",
        "\n",
        "# Path to the folder containing the images on Google Drive\n",
        "image_folder_path = '/content/drive/MyDrive/ML-PROJECT/0'\n",
        "\n",
        "# Create a new column in the DataFrame to store image paths\n",
        "df['Image_Path'] = ''\n",
        "\n",
        "# Function to get the image path based on the Eye ID\n",
        "def get_image_path(eye_id):\n",
        "    return os.path.join(image_folder_path, f\"{eye_id}.jpg\")\n",
        "\n",
        "# Update the 'Image_Path' column in the DataFrame\n",
        "df['Image_Path'] = df['Eye ID'].apply(get_image_path)\n",
        "\n",
        "# Display the updated DataFrame\n",
        "print(df[['Eye ID', 'Image_Path']].head())\n",
        "\n"
      ],
      "metadata": {
        "colab": {
          "base_uri": "https://localhost:8080/"
        },
        "id": "3_XWd75mSW90",
        "outputId": "5e8daa18-a750-432a-8bb5-2d925865a98c"
      },
      "execution_count": 21,
      "outputs": [
        {
          "output_type": "stream",
          "name": "stdout",
          "text": [
            "        Eye ID                                         Image_Path\n",
            "0  TRAIN000000  /content/drive/MyDrive/ML-PROJECT/0/TRAIN00000...\n",
            "1  TRAIN000001  /content/drive/MyDrive/ML-PROJECT/0/TRAIN00000...\n",
            "2  TRAIN000002  /content/drive/MyDrive/ML-PROJECT/0/TRAIN00000...\n",
            "3  TRAIN000003  /content/drive/MyDrive/ML-PROJECT/0/TRAIN00000...\n",
            "4  TRAIN000004  /content/drive/MyDrive/ML-PROJECT/0/TRAIN00000...\n"
          ]
        }
      ]
    },
    {
      "cell_type": "code",
      "source": [
        "# Set the display options to show all columns and rows\n",
        "pd.set_option('display.max_columns', None)\n",
        "pd.set_option('display.max_rows', None)\n",
        "\n",
        "# Display the full DataFrame\n",
        "print(df.head())"
      ],
      "metadata": {
        "colab": {
          "base_uri": "https://localhost:8080/"
        },
        "id": "S-n-TN3MWudu",
        "outputId": "928b9aeb-2987-400f-80ea-4be058967549"
      },
      "execution_count": 25,
      "outputs": [
        {
          "output_type": "stream",
          "name": "stdout",
          "text": [
            "        Eye ID Final Label Fellow Eye ID   Age Label G1 Label G2 Label G3  \\\n",
            "0  TRAIN000000         NRG   TRAIN081848  48.0      NRG      NRG      NRG   \n",
            "1  TRAIN000001         NRG   TRAIN018312  29.0      NRG      NRG      NRG   \n",
            "2  TRAIN000002         NRG   TRAIN083822  61.0      NRG      NRG      NRG   \n",
            "3  TRAIN000003         NRG   TRAIN055721  70.0      NRG      NRG      NRG   \n",
            "4  TRAIN000004         NRG   TRAIN099283  48.0      NRG      NRG      NRG   \n",
            "\n",
            "   G1 ANRS  G1 ANRI  G1 RNFLDS  G1 RNFLDI  G1 BCLVS  G1 BCLVI  G1 NVT  G1 DH  \\\n",
            "0      0.0      0.0        0.0        0.0       0.0       0.0     0.0    0.0   \n",
            "1      0.0      0.0        0.0        0.0       0.0       0.0     0.0    0.0   \n",
            "2      0.0      0.0        0.0        0.0       0.0       0.0     0.0    0.0   \n",
            "3      0.0      0.0        0.0        0.0       0.0       0.0     0.0    0.0   \n",
            "4      0.0      0.0        0.0        0.0       0.0       0.0     0.0    0.0   \n",
            "\n",
            "   G1 LD  G1 LC  G2 ANRS  G2 ANRI  G2 RNFLDS  G2 RNFLDI  G2 BCLVS  G2 BCLVI  \\\n",
            "0    0.0    0.0      0.0      0.0        0.0        0.0       0.0       0.0   \n",
            "1    0.0    0.0      0.0      0.0        0.0        0.0       0.0       0.0   \n",
            "2    0.0    0.0      0.0      0.0        0.0        0.0       0.0       0.0   \n",
            "3    0.0    0.0      0.0      0.0        0.0        0.0       0.0       0.0   \n",
            "4    0.0    0.0      0.0      0.0        0.0        0.0       0.0       0.0   \n",
            "\n",
            "   G2 NVT  G2 DH  G2 LD  G2 LC   G3 ANRS   G3 ANRI  G3 RNFLDS  G3 RNFLDI  \\\n",
            "0     0.0    0.0    0.0    0.0  0.075725  0.084047   0.011056   0.013195   \n",
            "1     0.0    0.0    0.0    0.0  0.075725  0.084047   0.011056   0.013195   \n",
            "2     0.0    0.0    0.0    0.0  0.075725  0.084047   0.011056   0.013195   \n",
            "3     0.0    0.0    0.0    0.0  0.075725  0.084047   0.011056   0.013195   \n",
            "4     0.0    0.0    0.0    0.0  0.075725  0.084047   0.011056   0.013195   \n",
            "\n",
            "   G3 BCLVS  G3 BCLVI    G3 NVT     G3 DH     G3 LD     G3 LC  \\\n",
            "0  0.021398  0.017713  0.020566  0.003685  0.043509  0.062054   \n",
            "1  0.021398  0.017713  0.020566  0.003685  0.043509  0.062054   \n",
            "2  0.021398  0.017713  0.020566  0.003685  0.043509  0.062054   \n",
            "3  0.021398  0.017713  0.020566  0.003685  0.043509  0.062054   \n",
            "4  0.021398  0.017713  0.020566  0.003685  0.043509  0.062054   \n",
            "\n",
            "                                          Image_Path  \n",
            "0  /content/drive/MyDrive/ML-PROJECT/0/TRAIN00000...  \n",
            "1  /content/drive/MyDrive/ML-PROJECT/0/TRAIN00000...  \n",
            "2  /content/drive/MyDrive/ML-PROJECT/0/TRAIN00000...  \n",
            "3  /content/drive/MyDrive/ML-PROJECT/0/TRAIN00000...  \n",
            "4  /content/drive/MyDrive/ML-PROJECT/0/TRAIN00000...  \n"
          ]
        }
      ]
    },
    {
      "cell_type": "code",
      "source": [
        "\"\"\"\n",
        "From next task , we can analyse  all image as it has been connected to image path\n",
        "\"\"\""
      ],
      "metadata": {
        "id": "kUjF8-TVYiWP"
      },
      "execution_count": null,
      "outputs": []
    }
  ]
}